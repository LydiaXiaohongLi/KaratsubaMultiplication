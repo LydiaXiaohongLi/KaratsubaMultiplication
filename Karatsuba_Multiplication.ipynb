{
 "cells": [
  {
   "cell_type": "code",
   "execution_count": 1,
   "metadata": {},
   "outputs": [],
   "source": [
    "import math\n",
    "num1=3141592653589793238462643383279502884197169399375105820974944592\n",
    "num2=2718281828459045235360287471352662497757247093699959574966967627"
   ]
  },
  {
   "cell_type": "code",
   "execution_count": 62,
   "metadata": {},
   "outputs": [],
   "source": [
    "#Karatsuba Multiplication with two numbers with different length, and no restrictions on number length\n",
    "def multiply(num1, num2):\n",
    "    n1=len(str(num1))\n",
    "    n2=len(str(num2))\n",
    "    if (n1 == 1) & (n2 == 1):\n",
    "        result=num1 * num2\n",
    "    elif (n1 > n2):\n",
    "        n_first=n1-n2       \n",
    "        num1_1=int(str(num1)[:n_first])\n",
    "        num1_2=int(str(num1)[n_first:])\n",
    "        result=pad_zeros(multiply(num1_1,num2),n2)+multiply(num1_2,num2)\n",
    "    elif (n1 < n2):\n",
    "        n_first=n2-n1       \n",
    "        num2_1=int(str(num2)[:n_first])\n",
    "        num2_2=int(str(num2)[n_first:])\n",
    "        result=pad_zeros(multiply(num1,num2_1),n1)+multiply(num1,num2_2)\n",
    "    else:\n",
    "        n_first=int(math.floor(n1/2))\n",
    "        num1_1=int(str(num1)[:n_first])\n",
    "        num1_2=int(str(num1)[n_first:])\n",
    "        num2_1=int(str(num2)[:n_first])\n",
    "        num2_2=int(str(num2)[n_first:])\n",
    "        a=multiply(num1_1,num2_1)\n",
    "        b=multiply((num1_1+num1_2),(num2_1+num2_2))\n",
    "        c=multiply(num1_2,num2_2)\n",
    "        result=pad_zeros(a,(n1-n_first)*2)+pad_zeros(b-a-c,n1-n_first)+c\n",
    "    return result"
   ]
  },
  {
   "cell_type": "code",
   "execution_count": 63,
   "metadata": {},
   "outputs": [],
   "source": [
    "def pad_zeros(num, n):\n",
    "    for i in range(n):\n",
    "        num=str(num)+'0'\n",
    "    return int(num)"
   ]
  },
  {
   "cell_type": "code",
   "execution_count": 64,
   "metadata": {},
   "outputs": [
    {
     "data": {
      "text/plain": [
       "8539734222673567065463550869546574495034888535765114961879601127067743044893204848617875072216249073013374895871952806582723184"
      ]
     },
     "execution_count": 64,
     "metadata": {},
     "output_type": "execute_result"
    }
   ],
   "source": [
    "multiply(num1, num2)"
   ]
  }
 ],
 "metadata": {
  "kernelspec": {
   "display_name": "Python 3",
   "language": "python",
   "name": "python3"
  },
  "language_info": {
   "codemirror_mode": {
    "name": "ipython",
    "version": 3
   },
   "file_extension": ".py",
   "mimetype": "text/x-python",
   "name": "python",
   "nbconvert_exporter": "python",
   "pygments_lexer": "ipython3",
   "version": "3.6.4"
  }
 },
 "nbformat": 4,
 "nbformat_minor": 2
}
